{
 "cells": [
  {
   "cell_type": "markdown",
   "metadata": {},
   "source": [
    "## Quiz 2 \n",
    "#### Valeria Acuña\n",
    "#### 26915574"
   ]
  },
  {
   "cell_type": "code",
   "execution_count": null,
   "metadata": {},
   "outputs": [],
   "source": [
    "import pandas as pd\n",
    "import seaborn\n",
    "import matplotlib\n",
    "import matplotlib.pyplot as plt"
   ]
  },
  {
   "cell_type": "code",
   "execution_count": 3,
   "metadata": {},
   "outputs": [
    {
     "data": {
      "text/html": [
       "<div>\n",
       "<style scoped>\n",
       "    .dataframe tbody tr th:only-of-type {\n",
       "        vertical-align: middle;\n",
       "    }\n",
       "\n",
       "    .dataframe tbody tr th {\n",
       "        vertical-align: top;\n",
       "    }\n",
       "\n",
       "    .dataframe thead th {\n",
       "        text-align: right;\n",
       "    }\n",
       "</style>\n",
       "<table border=\"1\" class=\"dataframe\">\n",
       "  <thead>\n",
       "    <tr style=\"text-align: right;\">\n",
       "      <th></th>\n",
       "      <th>market_id</th>\n",
       "      <th>created_at</th>\n",
       "      <th>actual_delivery_time</th>\n",
       "      <th>store_id</th>\n",
       "      <th>store_primary_category</th>\n",
       "      <th>order_protocol</th>\n",
       "      <th>total_items</th>\n",
       "      <th>subtotal</th>\n",
       "      <th>num_distinct_items</th>\n",
       "      <th>min_item_price</th>\n",
       "      <th>max_item_price</th>\n",
       "      <th>total_onshift_dashers</th>\n",
       "      <th>total_busy_dashers</th>\n",
       "      <th>total_outstanding_orders</th>\n",
       "      <th>estimated_order_place_duration</th>\n",
       "      <th>estimated_store_to_consumer_driving_duration</th>\n",
       "    </tr>\n",
       "  </thead>\n",
       "  <tbody>\n",
       "    <tr>\n",
       "      <th>0</th>\n",
       "      <td>1.0</td>\n",
       "      <td>2015-02-06 22:24:17</td>\n",
       "      <td>2015-02-06 23:27:16</td>\n",
       "      <td>1845</td>\n",
       "      <td>american</td>\n",
       "      <td>1.0</td>\n",
       "      <td>4</td>\n",
       "      <td>3441</td>\n",
       "      <td>4</td>\n",
       "      <td>557</td>\n",
       "      <td>1239</td>\n",
       "      <td>33.0</td>\n",
       "      <td>14.0</td>\n",
       "      <td>21.0</td>\n",
       "      <td>446</td>\n",
       "      <td>861.0</td>\n",
       "    </tr>\n",
       "    <tr>\n",
       "      <th>1</th>\n",
       "      <td>2.0</td>\n",
       "      <td>2015-02-10 21:49:25</td>\n",
       "      <td>2015-02-10 22:56:29</td>\n",
       "      <td>5477</td>\n",
       "      <td>mexican</td>\n",
       "      <td>2.0</td>\n",
       "      <td>1</td>\n",
       "      <td>1900</td>\n",
       "      <td>1</td>\n",
       "      <td>1400</td>\n",
       "      <td>1400</td>\n",
       "      <td>1.0</td>\n",
       "      <td>2.0</td>\n",
       "      <td>2.0</td>\n",
       "      <td>446</td>\n",
       "      <td>690.0</td>\n",
       "    </tr>\n",
       "    <tr>\n",
       "      <th>2</th>\n",
       "      <td>3.0</td>\n",
       "      <td>2015-01-22 20:39:28</td>\n",
       "      <td>2015-01-22 21:09:09</td>\n",
       "      <td>5477</td>\n",
       "      <td>NaN</td>\n",
       "      <td>1.0</td>\n",
       "      <td>1</td>\n",
       "      <td>1900</td>\n",
       "      <td>1</td>\n",
       "      <td>1900</td>\n",
       "      <td>1900</td>\n",
       "      <td>1.0</td>\n",
       "      <td>0.0</td>\n",
       "      <td>0.0</td>\n",
       "      <td>446</td>\n",
       "      <td>690.0</td>\n",
       "    </tr>\n",
       "    <tr>\n",
       "      <th>3</th>\n",
       "      <td>3.0</td>\n",
       "      <td>2015-02-03 21:21:45</td>\n",
       "      <td>2015-02-03 22:13:00</td>\n",
       "      <td>5477</td>\n",
       "      <td>NaN</td>\n",
       "      <td>1.0</td>\n",
       "      <td>6</td>\n",
       "      <td>6900</td>\n",
       "      <td>5</td>\n",
       "      <td>600</td>\n",
       "      <td>1800</td>\n",
       "      <td>1.0</td>\n",
       "      <td>1.0</td>\n",
       "      <td>2.0</td>\n",
       "      <td>446</td>\n",
       "      <td>289.0</td>\n",
       "    </tr>\n",
       "    <tr>\n",
       "      <th>4</th>\n",
       "      <td>3.0</td>\n",
       "      <td>2015-02-15 02:40:36</td>\n",
       "      <td>2015-02-15 03:20:26</td>\n",
       "      <td>5477</td>\n",
       "      <td>NaN</td>\n",
       "      <td>1.0</td>\n",
       "      <td>3</td>\n",
       "      <td>3900</td>\n",
       "      <td>3</td>\n",
       "      <td>1100</td>\n",
       "      <td>1600</td>\n",
       "      <td>6.0</td>\n",
       "      <td>6.0</td>\n",
       "      <td>9.0</td>\n",
       "      <td>446</td>\n",
       "      <td>650.0</td>\n",
       "    </tr>\n",
       "    <tr>\n",
       "      <th>...</th>\n",
       "      <td>...</td>\n",
       "      <td>...</td>\n",
       "      <td>...</td>\n",
       "      <td>...</td>\n",
       "      <td>...</td>\n",
       "      <td>...</td>\n",
       "      <td>...</td>\n",
       "      <td>...</td>\n",
       "      <td>...</td>\n",
       "      <td>...</td>\n",
       "      <td>...</td>\n",
       "      <td>...</td>\n",
       "      <td>...</td>\n",
       "      <td>...</td>\n",
       "      <td>...</td>\n",
       "      <td>...</td>\n",
       "    </tr>\n",
       "    <tr>\n",
       "      <th>197423</th>\n",
       "      <td>1.0</td>\n",
       "      <td>2015-02-17 00:19:41</td>\n",
       "      <td>2015-02-17 01:24:48</td>\n",
       "      <td>2956</td>\n",
       "      <td>fast</td>\n",
       "      <td>4.0</td>\n",
       "      <td>3</td>\n",
       "      <td>1389</td>\n",
       "      <td>3</td>\n",
       "      <td>345</td>\n",
       "      <td>649</td>\n",
       "      <td>17.0</td>\n",
       "      <td>17.0</td>\n",
       "      <td>23.0</td>\n",
       "      <td>251</td>\n",
       "      <td>331.0</td>\n",
       "    </tr>\n",
       "    <tr>\n",
       "      <th>197424</th>\n",
       "      <td>1.0</td>\n",
       "      <td>2015-02-13 00:01:59</td>\n",
       "      <td>2015-02-13 00:58:22</td>\n",
       "      <td>2956</td>\n",
       "      <td>fast</td>\n",
       "      <td>4.0</td>\n",
       "      <td>6</td>\n",
       "      <td>3010</td>\n",
       "      <td>4</td>\n",
       "      <td>405</td>\n",
       "      <td>825</td>\n",
       "      <td>12.0</td>\n",
       "      <td>11.0</td>\n",
       "      <td>14.0</td>\n",
       "      <td>251</td>\n",
       "      <td>915.0</td>\n",
       "    </tr>\n",
       "    <tr>\n",
       "      <th>197425</th>\n",
       "      <td>1.0</td>\n",
       "      <td>2015-01-24 04:46:08</td>\n",
       "      <td>2015-01-24 05:36:16</td>\n",
       "      <td>2956</td>\n",
       "      <td>fast</td>\n",
       "      <td>4.0</td>\n",
       "      <td>5</td>\n",
       "      <td>1836</td>\n",
       "      <td>3</td>\n",
       "      <td>300</td>\n",
       "      <td>399</td>\n",
       "      <td>39.0</td>\n",
       "      <td>41.0</td>\n",
       "      <td>40.0</td>\n",
       "      <td>251</td>\n",
       "      <td>795.0</td>\n",
       "    </tr>\n",
       "    <tr>\n",
       "      <th>197426</th>\n",
       "      <td>1.0</td>\n",
       "      <td>2015-02-01 18:18:15</td>\n",
       "      <td>2015-02-01 19:23:22</td>\n",
       "      <td>3630</td>\n",
       "      <td>sandwich</td>\n",
       "      <td>1.0</td>\n",
       "      <td>1</td>\n",
       "      <td>1175</td>\n",
       "      <td>1</td>\n",
       "      <td>535</td>\n",
       "      <td>535</td>\n",
       "      <td>7.0</td>\n",
       "      <td>7.0</td>\n",
       "      <td>12.0</td>\n",
       "      <td>446</td>\n",
       "      <td>384.0</td>\n",
       "    </tr>\n",
       "    <tr>\n",
       "      <th>197427</th>\n",
       "      <td>1.0</td>\n",
       "      <td>2015-02-08 19:24:33</td>\n",
       "      <td>2015-02-08 20:01:41</td>\n",
       "      <td>3630</td>\n",
       "      <td>sandwich</td>\n",
       "      <td>1.0</td>\n",
       "      <td>4</td>\n",
       "      <td>2605</td>\n",
       "      <td>4</td>\n",
       "      <td>425</td>\n",
       "      <td>750</td>\n",
       "      <td>20.0</td>\n",
       "      <td>20.0</td>\n",
       "      <td>23.0</td>\n",
       "      <td>446</td>\n",
       "      <td>134.0</td>\n",
       "    </tr>\n",
       "  </tbody>\n",
       "</table>\n",
       "<p>197428 rows × 16 columns</p>\n",
       "</div>"
      ],
      "text/plain": [
       "        market_id           created_at actual_delivery_time  store_id  \\\n",
       "0             1.0  2015-02-06 22:24:17  2015-02-06 23:27:16      1845   \n",
       "1             2.0  2015-02-10 21:49:25  2015-02-10 22:56:29      5477   \n",
       "2             3.0  2015-01-22 20:39:28  2015-01-22 21:09:09      5477   \n",
       "3             3.0  2015-02-03 21:21:45  2015-02-03 22:13:00      5477   \n",
       "4             3.0  2015-02-15 02:40:36  2015-02-15 03:20:26      5477   \n",
       "...           ...                  ...                  ...       ...   \n",
       "197423        1.0  2015-02-17 00:19:41  2015-02-17 01:24:48      2956   \n",
       "197424        1.0  2015-02-13 00:01:59  2015-02-13 00:58:22      2956   \n",
       "197425        1.0  2015-01-24 04:46:08  2015-01-24 05:36:16      2956   \n",
       "197426        1.0  2015-02-01 18:18:15  2015-02-01 19:23:22      3630   \n",
       "197427        1.0  2015-02-08 19:24:33  2015-02-08 20:01:41      3630   \n",
       "\n",
       "       store_primary_category  order_protocol  total_items  subtotal  \\\n",
       "0                    american             1.0            4      3441   \n",
       "1                     mexican             2.0            1      1900   \n",
       "2                         NaN             1.0            1      1900   \n",
       "3                         NaN             1.0            6      6900   \n",
       "4                         NaN             1.0            3      3900   \n",
       "...                       ...             ...          ...       ...   \n",
       "197423                   fast             4.0            3      1389   \n",
       "197424                   fast             4.0            6      3010   \n",
       "197425                   fast             4.0            5      1836   \n",
       "197426               sandwich             1.0            1      1175   \n",
       "197427               sandwich             1.0            4      2605   \n",
       "\n",
       "        num_distinct_items  min_item_price  max_item_price  \\\n",
       "0                        4             557            1239   \n",
       "1                        1            1400            1400   \n",
       "2                        1            1900            1900   \n",
       "3                        5             600            1800   \n",
       "4                        3            1100            1600   \n",
       "...                    ...             ...             ...   \n",
       "197423                   3             345             649   \n",
       "197424                   4             405             825   \n",
       "197425                   3             300             399   \n",
       "197426                   1             535             535   \n",
       "197427                   4             425             750   \n",
       "\n",
       "        total_onshift_dashers  total_busy_dashers  total_outstanding_orders  \\\n",
       "0                        33.0                14.0                      21.0   \n",
       "1                         1.0                 2.0                       2.0   \n",
       "2                         1.0                 0.0                       0.0   \n",
       "3                         1.0                 1.0                       2.0   \n",
       "4                         6.0                 6.0                       9.0   \n",
       "...                       ...                 ...                       ...   \n",
       "197423                   17.0                17.0                      23.0   \n",
       "197424                   12.0                11.0                      14.0   \n",
       "197425                   39.0                41.0                      40.0   \n",
       "197426                    7.0                 7.0                      12.0   \n",
       "197427                   20.0                20.0                      23.0   \n",
       "\n",
       "        estimated_order_place_duration  \\\n",
       "0                                  446   \n",
       "1                                  446   \n",
       "2                                  446   \n",
       "3                                  446   \n",
       "4                                  446   \n",
       "...                                ...   \n",
       "197423                             251   \n",
       "197424                             251   \n",
       "197425                             251   \n",
       "197426                             446   \n",
       "197427                             446   \n",
       "\n",
       "        estimated_store_to_consumer_driving_duration  \n",
       "0                                              861.0  \n",
       "1                                              690.0  \n",
       "2                                              690.0  \n",
       "3                                              289.0  \n",
       "4                                              650.0  \n",
       "...                                              ...  \n",
       "197423                                         331.0  \n",
       "197424                                         915.0  \n",
       "197425                                         795.0  \n",
       "197426                                         384.0  \n",
       "197427                                         134.0  \n",
       "\n",
       "[197428 rows x 16 columns]"
      ]
     },
     "execution_count": 3,
     "metadata": {},
     "output_type": "execute_result"
    }
   ],
   "source": [
    "df = pd.read_csv('historical_data.csv')\n",
    "df"
   ]
  },
  {
   "cell_type": "code",
   "execution_count": 5,
   "metadata": {},
   "outputs": [
    {
     "name": "stdout",
     "output_type": "stream",
     "text": [
      "   market_id           created_at actual_delivery_time  store_id  \\\n",
      "0        1.0  2015-02-06 22:24:17  2015-02-06 23:27:16      1845   \n",
      "1        2.0  2015-02-10 21:49:25  2015-02-10 22:56:29      5477   \n",
      "2        3.0  2015-01-22 20:39:28  2015-01-22 21:09:09      5477   \n",
      "3        3.0  2015-02-03 21:21:45  2015-02-03 22:13:00      5477   \n",
      "4        3.0  2015-02-15 02:40:36  2015-02-15 03:20:26      5477   \n",
      "\n",
      "  store_primary_category  order_protocol  total_items  subtotal  \\\n",
      "0               american             1.0            4      3441   \n",
      "1                mexican             2.0            1      1900   \n",
      "2                    NaN             1.0            1      1900   \n",
      "3                    NaN             1.0            6      6900   \n",
      "4                    NaN             1.0            3      3900   \n",
      "\n",
      "   num_distinct_items  min_item_price  max_item_price  total_onshift_dashers  \\\n",
      "0                   4             557            1239                   33.0   \n",
      "1                   1            1400            1400                    1.0   \n",
      "2                   1            1900            1900                    1.0   \n",
      "3                   5             600            1800                    1.0   \n",
      "4                   3            1100            1600                    6.0   \n",
      "\n",
      "   total_busy_dashers  total_outstanding_orders  \\\n",
      "0                14.0                      21.0   \n",
      "1                 2.0                       2.0   \n",
      "2                 0.0                       0.0   \n",
      "3                 1.0                       2.0   \n",
      "4                 6.0                       9.0   \n",
      "\n",
      "   estimated_order_place_duration  \\\n",
      "0                             446   \n",
      "1                             446   \n",
      "2                             446   \n",
      "3                             446   \n",
      "4                             446   \n",
      "\n",
      "   estimated_store_to_consumer_driving_duration  \n",
      "0                                         861.0  \n",
      "1                                         690.0  \n",
      "2                                         690.0  \n",
      "3                                         289.0  \n",
      "4                                         650.0  \n",
      "<class 'pandas.core.frame.DataFrame'>\n",
      "RangeIndex: 197428 entries, 0 to 197427\n",
      "Data columns (total 16 columns):\n",
      " #   Column                                        Non-Null Count   Dtype  \n",
      "---  ------                                        --------------   -----  \n",
      " 0   market_id                                     196441 non-null  float64\n",
      " 1   created_at                                    197428 non-null  object \n",
      " 2   actual_delivery_time                          197421 non-null  object \n",
      " 3   store_id                                      197428 non-null  int64  \n",
      " 4   store_primary_category                        192668 non-null  object \n",
      " 5   order_protocol                                196433 non-null  float64\n",
      " 6   total_items                                   197428 non-null  int64  \n",
      " 7   subtotal                                      197428 non-null  int64  \n",
      " 8   num_distinct_items                            197428 non-null  int64  \n",
      " 9   min_item_price                                197428 non-null  int64  \n",
      " 10  max_item_price                                197428 non-null  int64  \n",
      " 11  total_onshift_dashers                         181166 non-null  float64\n",
      " 12  total_busy_dashers                            181166 non-null  float64\n",
      " 13  total_outstanding_orders                      181166 non-null  float64\n",
      " 14  estimated_order_place_duration                197428 non-null  int64  \n",
      " 15  estimated_store_to_consumer_driving_duration  196902 non-null  float64\n",
      "dtypes: float64(6), int64(7), object(3)\n",
      "memory usage: 24.1+ MB\n",
      "None\n",
      "           market_id       store_id  order_protocol    total_items  \\\n",
      "count  196441.000000  197428.000000   196433.000000  197428.000000   \n",
      "mean        2.978706    3530.510272        2.882352       3.196391   \n",
      "std         1.524867    2053.496711        1.503771       2.666546   \n",
      "min         1.000000       1.000000        1.000000       1.000000   \n",
      "25%         2.000000    1686.000000        1.000000       2.000000   \n",
      "50%         3.000000    3592.000000        3.000000       3.000000   \n",
      "75%         4.000000    5299.000000        4.000000       4.000000   \n",
      "max         6.000000    6987.000000        7.000000     411.000000   \n",
      "\n",
      "            subtotal  num_distinct_items  min_item_price  max_item_price  \\\n",
      "count  197428.000000       197428.000000   197428.000000   197428.000000   \n",
      "mean     2682.331402            2.670791      686.218470     1159.588630   \n",
      "std      1823.093688            1.630255      522.038648      558.411377   \n",
      "min         0.000000            1.000000      -86.000000        0.000000   \n",
      "25%      1400.000000            1.000000      299.000000      800.000000   \n",
      "50%      2200.000000            2.000000      595.000000     1095.000000   \n",
      "75%      3395.000000            3.000000      949.000000     1395.000000   \n",
      "max     27100.000000           20.000000    14700.000000    14700.000000   \n",
      "\n",
      "       total_onshift_dashers  total_busy_dashers  total_outstanding_orders  \\\n",
      "count          181166.000000       181166.000000             181166.000000   \n",
      "mean               44.808093           41.739747                 58.050065   \n",
      "std                34.526783           32.145733                 52.661830   \n",
      "min                -4.000000           -5.000000                 -6.000000   \n",
      "25%                17.000000           15.000000                 17.000000   \n",
      "50%                37.000000           34.000000                 41.000000   \n",
      "75%                65.000000           62.000000                 85.000000   \n",
      "max               171.000000          154.000000                285.000000   \n",
      "\n",
      "       estimated_order_place_duration  \\\n",
      "count                   197428.000000   \n",
      "mean                       308.560179   \n",
      "std                         90.139653   \n",
      "min                          0.000000   \n",
      "25%                        251.000000   \n",
      "50%                        251.000000   \n",
      "75%                        446.000000   \n",
      "max                       2715.000000   \n",
      "\n",
      "       estimated_store_to_consumer_driving_duration  \n",
      "count                                 196902.000000  \n",
      "mean                                     545.358935  \n",
      "std                                      219.352902  \n",
      "min                                        0.000000  \n",
      "25%                                      382.000000  \n",
      "50%                                      544.000000  \n",
      "75%                                      702.000000  \n",
      "max                                     2088.000000  \n"
     ]
    }
   ],
   "source": [
    "# Exploración inicial\n",
    "print(df.head())\n",
    "print(df.info())\n",
    "print(df.describe())"
   ]
  },
  {
   "cell_type": "code",
   "execution_count": 6,
   "metadata": {},
   "outputs": [
    {
     "name": "stdout",
     "output_type": "stream",
     "text": [
      "market_id                                       float64\n",
      "created_at                                       object\n",
      "actual_delivery_time                             object\n",
      "store_id                                          int64\n",
      "store_primary_category                           object\n",
      "order_protocol                                  float64\n",
      "total_items                                       int64\n",
      "subtotal                                          int64\n",
      "num_distinct_items                                int64\n",
      "min_item_price                                    int64\n",
      "max_item_price                                    int64\n",
      "total_onshift_dashers                           float64\n",
      "total_busy_dashers                              float64\n",
      "total_outstanding_orders                        float64\n",
      "estimated_order_place_duration                    int64\n",
      "estimated_store_to_consumer_driving_duration    float64\n",
      "dtype: object\n"
     ]
    }
   ],
   "source": [
    "print(df.dtypes)"
   ]
  },
  {
   "cell_type": "code",
   "execution_count": 7,
   "metadata": {},
   "outputs": [
    {
     "name": "stdout",
     "output_type": "stream",
     "text": [
      "Index(['market_id', 'created_at', 'actual_delivery_time', 'store_id',\n",
      "       'store_primary_category', 'order_protocol', 'total_items', 'subtotal',\n",
      "       'num_distinct_items', 'min_item_price', 'max_item_price',\n",
      "       'total_onshift_dashers', 'total_busy_dashers',\n",
      "       'total_outstanding_orders', 'estimated_order_place_duration',\n",
      "       'estimated_store_to_consumer_driving_duration'],\n",
      "      dtype='object')\n"
     ]
    }
   ],
   "source": [
    "# Identificar la variable que contiene la información de ventas\n",
    "print(df.columns)"
   ]
  },
  {
   "cell_type": "markdown",
   "metadata": {},
   "source": [
    "###  Pregunta 1: ¿Cúal es el ‘store_id‘ con la mayor cantidad de dinero en ventas?"
   ]
  },
  {
   "cell_type": "code",
   "execution_count": 8,
   "metadata": {},
   "outputs": [
    {
     "name": "stdout",
     "output_type": "stream",
     "text": [
      "El 'store id' con la mayor cantidad de dinero en ventas es: 6074\n",
      "El total de ventas es: 529567324.00\n"
     ]
    }
   ],
   "source": [
    "# Análisis para encontrar el 'store id' con mayores ventas\n",
    "sales_by_store = df.groupby('store_id')['subtotal'].sum().reset_index()\n",
    "sales_by_store = sales_by_store.sort_values('subtotal', ascending=False)\n",
    "print(f\"El 'store id' con la mayor cantidad de dinero en ventas es: {sales_by_store.iloc[0]['store_id']}\")\n",
    "\n",
    "# Calcular el total de ventas\n",
    "total_sales = df['subtotal'].sum()\n",
    "print(f\"El total de ventas es: {total_sales:.2f}\")"
   ]
  },
  {
   "cell_type": "markdown",
   "metadata": {},
   "source": [
    "### Pregunta 2: ¿Cuantas tiendas diferentes venden pizza?"
   ]
  },
  {
   "cell_type": "code",
   "execution_count": 9,
   "metadata": {},
   "outputs": [
    {
     "name": "stdout",
     "output_type": "stream",
     "text": [
      "Hay 17321 tiendas diferentes que venden pizza.\n"
     ]
    }
   ],
   "source": [
    "# Contar el número de tiendas que venden pizza usando groupby\n",
    "num_pizza_stores = df.groupby('store_primary_category').size().loc['pizza']\n",
    "print(f\"Hay {num_pizza_stores} tiendas diferentes que venden pizza.\")"
   ]
  },
  {
   "cell_type": "markdown",
   "metadata": {},
   "source": [
    "### Pregunta 3: ¿Puede afirmarse que más elementos distintos en la compra esta asociado con la variable estimated store to consumer driving duration?"
   ]
  },
  {
   "cell_type": "code",
   "execution_count": 10,
   "metadata": {},
   "outputs": [
    {
     "name": "stdout",
     "output_type": "stream",
     "text": [
      "market_id                                         987\n",
      "created_at                                          0\n",
      "actual_delivery_time                                7\n",
      "store_id                                            0\n",
      "store_primary_category                           4760\n",
      "order_protocol                                    995\n",
      "total_items                                         0\n",
      "subtotal                                            0\n",
      "num_distinct_items                                  0\n",
      "min_item_price                                      0\n",
      "max_item_price                                      0\n",
      "total_onshift_dashers                           16262\n",
      "total_busy_dashers                              16262\n",
      "total_outstanding_orders                        16262\n",
      "estimated_order_place_duration                      0\n",
      "estimated_store_to_consumer_driving_duration      526\n",
      "dtype: int64\n",
      "market_id                                       float64\n",
      "created_at                                       object\n",
      "actual_delivery_time                             object\n",
      "store_id                                          int64\n",
      "store_primary_category                           object\n",
      "order_protocol                                  float64\n",
      "total_items                                       int64\n",
      "subtotal                                          int64\n",
      "num_distinct_items                                int64\n",
      "min_item_price                                    int64\n",
      "max_item_price                                    int64\n",
      "total_onshift_dashers                           float64\n",
      "total_busy_dashers                              float64\n",
      "total_outstanding_orders                        float64\n",
      "estimated_order_place_duration                    int64\n",
      "estimated_store_to_consumer_driving_duration    float64\n",
      "dtype: object\n"
     ]
    }
   ],
   "source": [
    "# Verificar valores faltantes en las columnas\n",
    "print(df.isnull().sum())\n",
    "# Verificar los tipos de datos de las columnas\n",
    "print(df.dtypes)"
   ]
  },
  {
   "cell_type": "code",
   "execution_count": 11,
   "metadata": {},
   "outputs": [
    {
     "name": "stderr",
     "output_type": "stream",
     "text": [
      "C:\\Users\\PC\\AppData\\Local\\Temp\\ipykernel_11604\\4260533709.py:5: SettingWithCopyWarning: \n",
      "A value is trying to be set on a copy of a slice from a DataFrame.\n",
      "Try using .loc[row_indexer,col_indexer] = value instead\n",
      "\n",
      "See the caveats in the documentation: https://pandas.pydata.org/pandas-docs/stable/user_guide/indexing.html#returning-a-view-versus-a-copy\n",
      "  df['estimated_store_to_consumer_driving_duration'] = df['estimated_store_to_consumer_driving_duration'].fillna(df['estimated_store_to_consumer_driving_duration'].mean())\n"
     ]
    }
   ],
   "source": [
    "# Eliminar filas con valores faltantes\n",
    "df = df.dropna(subset=['estimated_store_to_consumer_driving_duration'])\n",
    "\n",
    "# Imputar valores faltantes con la media\n",
    "df['estimated_store_to_consumer_driving_duration'] = df['estimated_store_to_consumer_driving_duration'].fillna(df['estimated_store_to_consumer_driving_duration'].mean())"
   ]
  },
  {
   "cell_type": "code",
   "execution_count": 12,
   "metadata": {},
   "outputs": [
    {
     "data": {
      "image/png": "[encoded data removed]",
      "text/plain": [
       "<Figure size 800x600 with 1 Axes>"
      ]
     },
     "metadata": {},
     "output_type": "display_data"
    }
   ],
   "source": [
    "plt.figure(figsize=(8, 6))\n",
    "plt.scatter(df['num_distinct_items'], df['estimated_store_to_consumer_driving_duration'])\n",
    "plt.xlabel('Número de elementos distintos')\n",
    "plt.ylabel('Duración estimada del viaje')\n",
    "plt.title('Gráfico de dispersión')\n",
    "plt.show()"
   ]
  },
  {
   "cell_type": "code",
   "execution_count": 13,
   "metadata": {},
   "outputs": [
    {
     "name": "stdout",
     "output_type": "stream",
     "text": [
      "       num_distinct_items  estimated_store_to_consumer_driving_duration\n",
      "count       196902.000000                                 196902.000000\n",
      "mean             2.671248                                    545.358935\n",
      "std              1.630350                                    219.352902\n",
      "min              1.000000                                      0.000000\n",
      "25%              1.000000                                    382.000000\n",
      "50%              2.000000                                    544.000000\n",
      "75%              3.000000                                    702.000000\n",
      "max             20.000000                                   2088.000000\n"
     ]
    }
   ],
   "source": [
    "print(df[['num_distinct_items', 'estimated_store_to_consumer_driving_duration']].describe())"
   ]
  },
  {
   "cell_type": "code",
   "execution_count": 14,
   "metadata": {},
   "outputs": [
    {
     "name": "stdout",
     "output_type": "stream",
     "text": [
      "Coeficiente de correlación: 0.02\n",
      "Valor p: 0.0000\n"
     ]
    }
   ],
   "source": [
    "import scipy.stats as stats\n",
    "\n",
    "# Calcular el coeficiente de correlación de Pearson\n",
    "corr, p_value = stats.pearsonr(df['num_distinct_items'], df['estimated_store_to_consumer_driving_duration'])\n",
    "\n",
    "# Imprimir los resultados\n",
    "print(f\"Coeficiente de correlación: {corr:.2f}\")\n",
    "print(f\"Valor p: {p_value:.4f}\")"
   ]
  },
  {
   "cell_type": "markdown",
   "metadata": {},
   "source": [
    "### Pregunta 4: ¿Qué tipo de comida tarda menos en ser preparada (desde creación de orden hasta delivery)?"
   ]
  },
  {
   "cell_type": "code",
   "execution_count": 15,
   "metadata": {},
   "outputs": [
    {
     "name": "stdout",
     "output_type": "stream",
     "text": [
      "store_primary_category\n",
      "chocolate      2048.000000\n",
      "catering       2357.205558\n",
      "indonesian     2445.000000\n",
      "kosher         2494.568627\n",
      "gluten-free    2521.709677\n",
      "                  ...     \n",
      "belgian        3299.500000\n",
      "brazilian      3358.377419\n",
      "caribbean      3365.897233\n",
      "spanish        3370.702703\n",
      "italian        4212.053350\n",
      "Length: 74, dtype: float64\n"
     ]
    }
   ],
   "source": [
    "df = pd.read_csv('historical_data.csv')\n",
    "\n",
    "# Convertir 'actual_delivery_time' y 'created_at' a tipo DateTime\n",
    "df['actual_delivery_time'] = pd.to_datetime(df['actual_delivery_time'])\n",
    "df['created_at'] = pd.to_datetime(df['created_at'])\n",
    "\n",
    "# Calcula el tiempo de preparación promedio para cada categoría de restaurante\n",
    "actual_delivery_time_mean = df.groupby('store_primary_category')['actual_delivery_time'].mean()\n",
    "created_at_mean = df.groupby('store_primary_category')['created_at'].mean()\n",
    "avg_prep_time = (actual_delivery_time_mean - created_at_mean).dt.total_seconds()\n",
    "\n",
    "# Ordena los resultados de menor a mayor tiempo de preparación\n",
    "avg_prep_time = avg_prep_time.sort_values()\n",
    "\n",
    "# Imprime los resultados\n",
    "print(avg_prep_time)\n"
   ]
  },
  {
   "cell_type": "markdown",
   "metadata": {},
   "source": [
    "###  Pregunta 5:   Usando la ubicación con menos ordenes, ¿Cúal es el mejor momento para ordenar entre [5pm, 10pm]? Responda que ubicación usó y la mejor hora para ordenar"
   ]
  },
  {
   "cell_type": "code",
   "execution_count": 16,
   "metadata": {},
   "outputs": [
    {
     "name": "stderr",
     "output_type": "stream",
     "text": [
      "C:\\Users\\PC\\AppData\\Local\\Temp\\ipykernel_11604\\473060747.py:4: SettingWithCopyWarning: \n",
      "A value is trying to be set on a copy of a slice from a DataFrame.\n",
      "Try using .loc[row_indexer,col_indexer] = value instead\n",
      "\n",
      "See the caveats in the documentation: https://pandas.pydata.org/pandas-docs/stable/user_guide/indexing.html#returning-a-view-versus-a-copy\n",
      "  market_df['created_at_hour'] = market_df['created_at'].dt.hour\n"
     ]
    }
   ],
   "source": [
    "market_id_counts = df['market_id'].value_counts()\n",
    "min_market_id = market_id_counts.idxmin()\n",
    "market_df = df[df['market_id'] == min_market_id]\n",
    "market_df['created_at_hour'] = market_df['created_at'].dt.hour\n",
    "best_hour = market_df[(market_df['created_at_hour'] >= 17) & (market_df['created_at_hour'] <= 22)]['created_at_hour'].value_counts().idxmax()"
   ]
  },
  {
   "cell_type": "code",
   "execution_count": 19,
   "metadata": {},
   "outputs": [
    {
     "name": "stdout",
     "output_type": "stream",
     "text": [
      "La ubicación con menos ordenes: 6.0\n",
      "El mejor momento para ordenar entre [5pm, 10pm]: 20\n"
     ]
    }
   ],
   "source": [
    "print(f\"La ubicación con menos ordenes: {min_market_id}\")\n",
    "print(f\"El mejor momento para ordenar entre [5pm, 10pm]: {best_hour}\")"
   ]
  }
 ],
 "metadata": {
  "kernelspec": {
   "display_name": ".q2",
   "language": "python",
   "name": "python3"
  },
  "language_info": {
   "codemirror_mode": {
    "name": "ipython",
    "version": 3
   },
   "file_extension": ".py",
   "mimetype": "text/x-python",
   "name": "python",
   "nbconvert_exporter": "python",
   "pygments_lexer": "ipython3",
   "version": "3.11.9"
  }
 },
 "nbformat": 4,
 "nbformat_minor": 2
}
